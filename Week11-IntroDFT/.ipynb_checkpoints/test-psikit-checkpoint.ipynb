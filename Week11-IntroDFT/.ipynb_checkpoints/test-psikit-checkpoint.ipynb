{
 "cells": [
  {
   "cell_type": "code",
   "execution_count": 1,
   "id": "0248a49f-5db5-47b6-94cb-ad0903d87ba7",
   "metadata": {},
   "outputs": [
    {
     "name": "stdout",
     "output_type": "stream",
     "text": [
      "Defaulting to user installation because normal site-packages is not writeable\n",
      "Collecting https://github.com/Mishima-syk/psikit\n",
      "  Downloading https://github.com/Mishima-syk/psikit\n",
      "\u001b[2K     \u001b[32m\\\u001b[0m \u001b[32m350.8 kB\u001b[0m \u001b[31m13.5 MB/s\u001b[0m \u001b[33m0:00:00\u001b[0m\n",
      "\u001b[?25h\u001b[31m  ERROR: Cannot unpack file /state/partition1/job-53529370/pip-unpack-ppcxoj8d/psikit (downloaded from /state/partition1/job-53529370/pip-req-build-zajx3h12, content-type: text/html; charset=utf-8); cannot detect archive format\u001b[0m\u001b[31m\n",
      "\u001b[0m\u001b[31mERROR: Cannot determine archive format of /state/partition1/job-53529370/pip-req-build-zajx3h12\u001b[0m\u001b[31m\n",
      "\u001b[0mNote: you may need to restart the kernel to use updated packages.\n"
     ]
    }
   ],
   "source": [
    "pip install https://github.com/Mishima-syk/psikit"
   ]
  },
  {
   "cell_type": "code",
   "execution_count": null,
   "id": "cad6f76e-4514-4424-ba5f-d5d5c972a20d",
   "metadata": {},
   "outputs": [],
   "source": []
  }
 ],
 "metadata": {
  "kernelspec": {
   "display_name": "lab_env_2024",
   "language": "python",
   "name": "lab_env_2024"
  },
  "language_info": {
   "codemirror_mode": {
    "name": "ipython",
    "version": 3
   },
   "file_extension": ".py",
   "mimetype": "text/x-python",
   "name": "python",
   "nbconvert_exporter": "python",
   "pygments_lexer": "ipython3",
   "version": "3.9.12"
  }
 },
 "nbformat": 4,
 "nbformat_minor": 5
}
