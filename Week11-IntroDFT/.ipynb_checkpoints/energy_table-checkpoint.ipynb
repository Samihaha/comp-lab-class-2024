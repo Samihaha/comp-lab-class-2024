{
 "cells": [
  {
   "cell_type": "code",
   "execution_count": 1,
   "id": "b9d53a90-3990-4d7a-afba-13aa261ae675",
   "metadata": {},
   "outputs": [
    {
     "name": "stdout",
     "output_type": "stream",
     "text": [
      "\n",
      "CommandNotFoundError: No command 'conda rdkit'.\n",
      "\n",
      "\n",
      "Note: you may need to restart the kernel to use updated packages.\n"
     ]
    }
   ],
   "source": [
    "conda -c rdkit rdkit"
   ]
  },
  {
   "cell_type": "code",
   "execution_count": 4,
   "id": "4e03aa72-e503-4864-b530-c8bd7cf6a602",
   "metadata": {},
   "outputs": [
    {
     "data": {
      "text/plain": [
       "'2022.09.1'"
      ]
     },
     "execution_count": 4,
     "metadata": {},
     "output_type": "execute_result"
    }
   ],
   "source": [
    "import rdkit\n",
    "from rdkit import Chem\n",
    "from rdkit.Chem import AllChem\n",
    "\n",
    "from rdkit.Chem import Draw\n",
    "from rdkit.Chem.Draw import IPythonConsole\n",
    "\n",
    "rdkit.__version__"
   ]
  },
  {
   "cell_type": "code",
   "execution_count": 5,
   "id": "e772a51d-1299-429e-a51f-a19a33062f92",
   "metadata": {},
   "outputs": [],
   "source": [
    "from rdkit.Chem import AllChem as Chem\n"
   ]
  },
  {
   "cell_type": "code",
   "execution_count": 6,
   "id": "36ab11ca-467b-4b51-baac-bfed28be6d6b",
   "metadata": {},
   "outputs": [],
   "source": [
    "import pandas as pd\n",
    "from rdkit.Chem import PandasTools"
   ]
  },
  {
   "cell_type": "code",
   "execution_count": 10,
   "id": "2e7276d0-8fa5-4fe6-aa24-100d5ea26f31",
   "metadata": {},
   "outputs": [
    {
     "data": {
      "text/html": [
       "<div>\n",
       "<style scoped>\n",
       "    .dataframe tbody tr th:only-of-type {\n",
       "        vertical-align: middle;\n",
       "    }\n",
       "\n",
       "    .dataframe tbody tr th {\n",
       "        vertical-align: top;\n",
       "    }\n",
       "\n",
       "    .dataframe thead th {\n",
       "        text-align: right;\n",
       "    }\n",
       "</style>\n",
       "<table border=\"1\" class=\"dataframe\">\n",
       "  <thead>\n",
       "    <tr style=\"text-align: right;\">\n",
       "      <th></th>\n",
       "      <th>smiles</th>\n",
       "    </tr>\n",
       "  </thead>\n",
       "  <tbody>\n",
       "    <tr>\n",
       "      <th>0</th>\n",
       "      <td>C=C</td>\n",
       "    </tr>\n",
       "    <tr>\n",
       "      <th>1</th>\n",
       "      <td>C=O</td>\n",
       "    </tr>\n",
       "    <tr>\n",
       "      <th>2</th>\n",
       "      <td>C#N</td>\n",
       "    </tr>\n",
       "    <tr>\n",
       "      <th>3</th>\n",
       "      <td>CCO</td>\n",
       "    </tr>\n",
       "    <tr>\n",
       "      <th>4</th>\n",
       "      <td>CCC(=O)O</td>\n",
       "    </tr>\n",
       "    <tr>\n",
       "      <th>5</th>\n",
       "      <td>CN=C=O</td>\n",
       "    </tr>\n",
       "    <tr>\n",
       "      <th>6</th>\n",
       "      <td>C1=CCC=CC1</td>\n",
       "    </tr>\n",
       "    <tr>\n",
       "      <th>7</th>\n",
       "      <td>C1=CC=CC=C1</td>\n",
       "    </tr>\n",
       "    <tr>\n",
       "      <th>8</th>\n",
       "      <td>C1=C(C)C=CC=C1</td>\n",
       "    </tr>\n",
       "    <tr>\n",
       "      <th>9</th>\n",
       "      <td>C1CCC2CCCCC2C1</td>\n",
       "    </tr>\n",
       "  </tbody>\n",
       "</table>\n",
       "</div>"
      ],
      "text/plain": [
       "           smiles\n",
       "0             C=C\n",
       "1             C=O\n",
       "2             C#N\n",
       "3             CCO\n",
       "4        CCC(=O)O\n",
       "5          CN=C=O\n",
       "6      C1=CCC=CC1\n",
       "7     C1=CC=CC=C1\n",
       "8  C1=C(C)C=CC=C1\n",
       "9  C1CCC2CCCCC2C1"
      ]
     },
     "execution_count": 10,
     "metadata": {},
     "output_type": "execute_result"
    }
   ],
   "source": [
    "smiles_df = pd.read_csv('smiles.csv')\n",
    "smiles_df.head(10)"
   ]
  },
  {
   "cell_type": "code",
   "execution_count": 13,
   "id": "db8998fc-55ac-45c5-aacd-bc2511384ab3",
   "metadata": {},
   "outputs": [
    {
     "data": {
      "text/html": [
       "<div>\n",
       "<style scoped>\n",
       "    .dataframe tbody tr th:only-of-type {\n",
       "        vertical-align: middle;\n",
       "    }\n",
       "\n",
       "    .dataframe tbody tr th {\n",
       "        vertical-align: top;\n",
       "    }\n",
       "\n",
       "    .dataframe thead th {\n",
       "        text-align: right;\n",
       "    }\n",
       "</style>\n",
       "<table border=\"1\" class=\"dataframe\">\n",
       "  <thead>\n",
       "    <tr style=\"text-align: right;\">\n",
       "      <th></th>\n",
       "      <th>smiles</th>\n",
       "      <th>ROMol</th>\n",
       "    </tr>\n",
       "  </thead>\n",
       "  <tbody>\n",
       "    <tr>\n",
       "      <th>0</th>\n",
       "      <td>C=C</td>\n",
       "      <td>&lt;rdkit.Chem.rdchem.Mol object at 0x1532e649beb0&gt;</td>\n",
       "    </tr>\n",
       "    <tr>\n",
       "      <th>1</th>\n",
       "      <td>C=O</td>\n",
       "      <td>&lt;rdkit.Chem.rdchem.Mol object at 0x1532e63c2040&gt;</td>\n",
       "    </tr>\n",
       "    <tr>\n",
       "      <th>2</th>\n",
       "      <td>C#N</td>\n",
       "      <td>&lt;rdkit.Chem.rdchem.Mol object at 0x1532e63c2120&gt;</td>\n",
       "    </tr>\n",
       "    <tr>\n",
       "      <th>3</th>\n",
       "      <td>CCO</td>\n",
       "      <td>&lt;rdkit.Chem.rdchem.Mol object at 0x1532e63c2190&gt;</td>\n",
       "    </tr>\n",
       "    <tr>\n",
       "      <th>4</th>\n",
       "      <td>CCC(=O)O</td>\n",
       "      <td>&lt;rdkit.Chem.rdchem.Mol object at 0x1532e63c20b0&gt;</td>\n",
       "    </tr>\n",
       "    <tr>\n",
       "      <th>5</th>\n",
       "      <td>CN=C=O</td>\n",
       "      <td>&lt;rdkit.Chem.rdchem.Mol object at 0x1532e63c2200&gt;</td>\n",
       "    </tr>\n",
       "    <tr>\n",
       "      <th>6</th>\n",
       "      <td>C1=CCC=CC1</td>\n",
       "      <td>&lt;rdkit.Chem.rdchem.Mol object at 0x1532e63c22e0&gt;</td>\n",
       "    </tr>\n",
       "    <tr>\n",
       "      <th>7</th>\n",
       "      <td>C1=CC=CC=C1</td>\n",
       "      <td>&lt;rdkit.Chem.rdchem.Mol object at 0x1532e63c2270&gt;</td>\n",
       "    </tr>\n",
       "    <tr>\n",
       "      <th>8</th>\n",
       "      <td>C1=C(C)C=CC=C1</td>\n",
       "      <td>&lt;rdkit.Chem.rdchem.Mol object at 0x1532e63c2c80&gt;</td>\n",
       "    </tr>\n",
       "    <tr>\n",
       "      <th>9</th>\n",
       "      <td>C1CCC2CCCCC2C1</td>\n",
       "      <td>&lt;rdkit.Chem.rdchem.Mol object at 0x1532e63c2cf0&gt;</td>\n",
       "    </tr>\n",
       "  </tbody>\n",
       "</table>\n",
       "</div>"
      ],
      "text/plain": [
       "           smiles                                             ROMol\n",
       "0             C=C  <rdkit.Chem.rdchem.Mol object at 0x1532e649beb0>\n",
       "1             C=O  <rdkit.Chem.rdchem.Mol object at 0x1532e63c2040>\n",
       "2             C#N  <rdkit.Chem.rdchem.Mol object at 0x1532e63c2120>\n",
       "3             CCO  <rdkit.Chem.rdchem.Mol object at 0x1532e63c2190>\n",
       "4        CCC(=O)O  <rdkit.Chem.rdchem.Mol object at 0x1532e63c20b0>\n",
       "5          CN=C=O  <rdkit.Chem.rdchem.Mol object at 0x1532e63c2200>\n",
       "6      C1=CCC=CC1  <rdkit.Chem.rdchem.Mol object at 0x1532e63c22e0>\n",
       "7     C1=CC=CC=C1  <rdkit.Chem.rdchem.Mol object at 0x1532e63c2270>\n",
       "8  C1=C(C)C=CC=C1  <rdkit.Chem.rdchem.Mol object at 0x1532e63c2c80>\n",
       "9  C1CCC2CCCCC2C1  <rdkit.Chem.rdchem.Mol object at 0x1532e63c2cf0>"
      ]
     },
     "execution_count": 13,
     "metadata": {},
     "output_type": "execute_result"
    }
   ],
   "source": [
    "PandasTools.AddMoleculeColumnToFrame(smiles_df, smilesCol='smiles')\n",
    "smiles_df.head(10)"
   ]
  },
  {
   "cell_type": "code",
   "execution_count": 19,
   "id": "ca4ac470-97c3-4dda-88aa-c642af8dfb0c",
   "metadata": {},
   "outputs": [
    {
     "name": "stdout",
     "output_type": "stream",
     "text": [
      "<class 'rdkit.Chem.rdchem.Mol'>\n"
     ]
    }
   ],
   "source": [
    "print(type(smiles_df.ROMol[0]))"
   ]
  },
  {
   "cell_type": "code",
   "execution_count": 22,
   "id": "8eb1672d-51c4-4ceb-a727-9d7ad3f6443b",
   "metadata": {},
   "outputs": [
    {
     "data": {
      "image/png": "[encoded data removed]",
      "text/plain": [
       "<IPython.core.display.Image object>"
      ]
     },
     "execution_count": 22,
     "metadata": {},
     "output_type": "execute_result"
    }
   ],
   "source": [
    "PandasTools.FrameToGridImage(smiles_df.head(10), legendsCol=\"ROMol\", molsPerRow=4)"
   ]
  },
  {
   "cell_type": "code",
   "execution_count": 24,
   "id": "d982163e-f984-462c-bb1b-6130a14b036f",
   "metadata": {},
   "outputs": [
    {
     "data": {
      "text/html": [
       "<div>\n",
       "<style scoped>\n",
       "    .dataframe tbody tr th:only-of-type {\n",
       "        vertical-align: middle;\n",
       "    }\n",
       "\n",
       "    .dataframe tbody tr th {\n",
       "        vertical-align: top;\n",
       "    }\n",
       "\n",
       "    .dataframe thead th {\n",
       "        text-align: right;\n",
       "    }\n",
       "</style>\n",
       "<table border=\"1\" class=\"dataframe\">\n",
       "  <thead>\n",
       "    <tr style=\"text-align: right;\">\n",
       "      <th></th>\n",
       "      <th>smiles</th>\n",
       "      <th>ROMol</th>\n",
       "      <th>n_Atoms</th>\n",
       "    </tr>\n",
       "  </thead>\n",
       "  <tbody>\n",
       "    <tr>\n",
       "      <th>0</th>\n",
       "      <td>C=C</td>\n",
       "      <td>&lt;rdkit.Chem.rdchem.Mol object at 0x1532e54746d0&gt;</td>\n",
       "      <td>2</td>\n",
       "    </tr>\n",
       "    <tr>\n",
       "      <th>1</th>\n",
       "      <td>C=O</td>\n",
       "      <td>&lt;rdkit.Chem.rdchem.Mol object at 0x1532e5474820&gt;</td>\n",
       "      <td>2</td>\n",
       "    </tr>\n",
       "    <tr>\n",
       "      <th>2</th>\n",
       "      <td>C#N</td>\n",
       "      <td>&lt;rdkit.Chem.rdchem.Mol object at 0x1532e5474890&gt;</td>\n",
       "      <td>2</td>\n",
       "    </tr>\n",
       "    <tr>\n",
       "      <th>3</th>\n",
       "      <td>CCO</td>\n",
       "      <td>&lt;rdkit.Chem.rdchem.Mol object at 0x1532e5474900&gt;</td>\n",
       "      <td>3</td>\n",
       "    </tr>\n",
       "    <tr>\n",
       "      <th>4</th>\n",
       "      <td>CCC(=O)O</td>\n",
       "      <td>&lt;rdkit.Chem.rdchem.Mol object at 0x1532e5474970&gt;</td>\n",
       "      <td>5</td>\n",
       "    </tr>\n",
       "    <tr>\n",
       "      <th>5</th>\n",
       "      <td>CN=C=O</td>\n",
       "      <td>&lt;rdkit.Chem.rdchem.Mol object at 0x1532e54749e0&gt;</td>\n",
       "      <td>4</td>\n",
       "    </tr>\n",
       "    <tr>\n",
       "      <th>6</th>\n",
       "      <td>C1=CCC=CC1</td>\n",
       "      <td>&lt;rdkit.Chem.rdchem.Mol object at 0x1532e5474a50&gt;</td>\n",
       "      <td>6</td>\n",
       "    </tr>\n",
       "    <tr>\n",
       "      <th>7</th>\n",
       "      <td>C1=CC=CC=C1</td>\n",
       "      <td>&lt;rdkit.Chem.rdchem.Mol object at 0x1532e5474ac0&gt;</td>\n",
       "      <td>6</td>\n",
       "    </tr>\n",
       "    <tr>\n",
       "      <th>8</th>\n",
       "      <td>C1=C(C)C=CC=C1</td>\n",
       "      <td>&lt;rdkit.Chem.rdchem.Mol object at 0x1532e5474b30&gt;</td>\n",
       "      <td>7</td>\n",
       "    </tr>\n",
       "    <tr>\n",
       "      <th>9</th>\n",
       "      <td>C1CCC2CCCCC2C1</td>\n",
       "      <td>&lt;rdkit.Chem.rdchem.Mol object at 0x1532e5474ba0&gt;</td>\n",
       "      <td>10</td>\n",
       "    </tr>\n",
       "  </tbody>\n",
       "</table>\n",
       "</div>"
      ],
      "text/plain": [
       "           smiles                                             ROMol  n_Atoms\n",
       "0             C=C  <rdkit.Chem.rdchem.Mol object at 0x1532e54746d0>        2\n",
       "1             C=O  <rdkit.Chem.rdchem.Mol object at 0x1532e5474820>        2\n",
       "2             C#N  <rdkit.Chem.rdchem.Mol object at 0x1532e5474890>        2\n",
       "3             CCO  <rdkit.Chem.rdchem.Mol object at 0x1532e5474900>        3\n",
       "4        CCC(=O)O  <rdkit.Chem.rdchem.Mol object at 0x1532e5474970>        5\n",
       "5          CN=C=O  <rdkit.Chem.rdchem.Mol object at 0x1532e54749e0>        4\n",
       "6      C1=CCC=CC1  <rdkit.Chem.rdchem.Mol object at 0x1532e5474a50>        6\n",
       "7     C1=CC=CC=C1  <rdkit.Chem.rdchem.Mol object at 0x1532e5474ac0>        6\n",
       "8  C1=C(C)C=CC=C1  <rdkit.Chem.rdchem.Mol object at 0x1532e5474b30>        7\n",
       "9  C1CCC2CCCCC2C1  <rdkit.Chem.rdchem.Mol object at 0x1532e5474ba0>       10"
      ]
     },
     "execution_count": 24,
     "metadata": {},
     "output_type": "execute_result"
    }
   ],
   "source": [
    "smiles_df[\"n_Atoms\"] = smiles_df['ROMol'].map(lambda x: x.GetNumAtoms())\n",
    "smiles_df.head(10)"
   ]
  },
  {
   "cell_type": "code",
   "execution_count": 25,
   "id": "02508767-b6de-4f0f-921d-cea578b8b5cf",
   "metadata": {},
   "outputs": [
    {
     "data": {
      "text/html": [
       "<div>\n",
       "<style scoped>\n",
       "    .dataframe tbody tr th:only-of-type {\n",
       "        vertical-align: middle;\n",
       "    }\n",
       "\n",
       "    .dataframe tbody tr th {\n",
       "        vertical-align: top;\n",
       "    }\n",
       "\n",
       "    .dataframe thead th {\n",
       "        text-align: right;\n",
       "    }\n",
       "</style>\n",
       "<table border=\"1\" class=\"dataframe\">\n",
       "  <thead>\n",
       "    <tr style=\"text-align: right;\">\n",
       "      <th></th>\n",
       "      <th>smiles</th>\n",
       "      <th>n_Atoms</th>\n",
       "    </tr>\n",
       "  </thead>\n",
       "  <tbody>\n",
       "    <tr>\n",
       "      <th>0</th>\n",
       "      <td>C=C</td>\n",
       "      <td>2</td>\n",
       "    </tr>\n",
       "    <tr>\n",
       "      <th>1</th>\n",
       "      <td>C=O</td>\n",
       "      <td>2</td>\n",
       "    </tr>\n",
       "    <tr>\n",
       "      <th>2</th>\n",
       "      <td>C#N</td>\n",
       "      <td>2</td>\n",
       "    </tr>\n",
       "    <tr>\n",
       "      <th>3</th>\n",
       "      <td>CCO</td>\n",
       "      <td>3</td>\n",
       "    </tr>\n",
       "    <tr>\n",
       "      <th>4</th>\n",
       "      <td>CCC(=O)O</td>\n",
       "      <td>5</td>\n",
       "    </tr>\n",
       "    <tr>\n",
       "      <th>5</th>\n",
       "      <td>CN=C=O</td>\n",
       "      <td>4</td>\n",
       "    </tr>\n",
       "    <tr>\n",
       "      <th>6</th>\n",
       "      <td>C1=CCC=CC1</td>\n",
       "      <td>6</td>\n",
       "    </tr>\n",
       "    <tr>\n",
       "      <th>7</th>\n",
       "      <td>C1=CC=CC=C1</td>\n",
       "      <td>6</td>\n",
       "    </tr>\n",
       "    <tr>\n",
       "      <th>8</th>\n",
       "      <td>C1=C(C)C=CC=C1</td>\n",
       "      <td>7</td>\n",
       "    </tr>\n",
       "    <tr>\n",
       "      <th>9</th>\n",
       "      <td>C1CCC2CCCCC2C1</td>\n",
       "      <td>10</td>\n",
       "    </tr>\n",
       "  </tbody>\n",
       "</table>\n",
       "</div>"
      ],
      "text/plain": [
       "           smiles  n_Atoms\n",
       "0             C=C        2\n",
       "1             C=O        2\n",
       "2             C#N        2\n",
       "3             CCO        3\n",
       "4        CCC(=O)O        5\n",
       "5          CN=C=O        4\n",
       "6      C1=CCC=CC1        6\n",
       "7     C1=CC=CC=C1        6\n",
       "8  C1=C(C)C=CC=C1        7\n",
       "9  C1CCC2CCCCC2C1       10"
      ]
     },
     "execution_count": 25,
     "metadata": {},
     "output_type": "execute_result"
    }
   ],
   "source": [
    "smiles_df = smiles_df.drop(['ROMol'], axis=1)\n",
    "smiles_df.head(10)"
   ]
  },
  {
   "cell_type": "code",
   "execution_count": 1,
   "id": "4c46198d-0e84-4b70-b400-e616cee978fc",
   "metadata": {},
   "outputs": [],
   "source": [
    "import os\n",
    "import sys\n",
    "import pandas as pd\n",
    "import numpy as np\n",
    "from rdkit import Chem\n",
    "from rdkit.Chem.Draw import IPythonConsole\n",
    "sys.path.append('/Users/iwatobipen/develop/chemoenv/psikit/psikit/')"
   ]
  },
  {
   "cell_type": "code",
   "execution_count": 2,
   "id": "af9c71ef-57ff-4382-b620-2b14bb9f8c49",
   "metadata": {},
   "outputs": [],
   "source": [
    "from psikit import Psikit"
   ]
  },
  {
   "cell_type": "code",
   "execution_count": 3,
   "id": "59347153-aa09-4a39-8eea-3708cbddb3ea",
   "metadata": {},
   "outputs": [
    {
     "name": "stdout",
     "output_type": "stream",
     "text": [
      "\n",
      "  Memory set to  29.802 GiB by Python driver.\n",
      "  Threads set to 1 by Python driver.\n"
     ]
    }
   ],
   "source": [
    "pk = Psikit(debug=True,threads=1,memory=32)"
   ]
  },
  {
   "cell_type": "code",
   "execution_count": 4,
   "id": "ec3d6740-9118-4584-abc7-c6d4056f03aa",
   "metadata": {},
   "outputs": [
    {
     "data": {
      "text/plain": [
       "0               C=C\n",
       "1               C=O\n",
       "2               C#N\n",
       "3               CCO\n",
       "4          CCC(=O)O\n",
       "5            CN=C=O\n",
       "6        C1=CCC=CC1\n",
       "7       C1=CC=CC=C1\n",
       "8    C1=C(C)C=CC=C1\n",
       "9    C1CCC2CCCCC2C1\n",
       "Name: smiles, dtype: object"
      ]
     },
     "execution_count": 4,
     "metadata": {},
     "output_type": "execute_result"
    }
   ],
   "source": [
    "smiles_df = pd.read_csv('smiles.csv')\n",
    "smiles_df[\"smiles\"] "
   ]
  },
  {
   "cell_type": "code",
   "execution_count": 8,
   "id": "b3a8c34e-c70f-46cb-ae45-9f76fb6d6aa5",
   "metadata": {},
   "outputs": [
    {
     "name": "stdout",
     "output_type": "stream",
     "text": [
      "CPU times: user 3 µs, sys: 1 µs, total: 4 µs\n",
      "Wall time: 6.68 µs\n",
      "Optimizer: Optimization complete!\n",
      "CPU times: user 4 µs, sys: 0 ns, total: 4 µs\n",
      "Wall time: 9.3 µs\n",
      "Optimizer: Optimization complete!\n",
      "CPU times: user 3 µs, sys: 1 µs, total: 4 µs\n",
      "Wall time: 5.96 µs\n",
      "Optimizer: Optimization complete!\n",
      "CPU times: user 3 µs, sys: 0 ns, total: 3 µs\n",
      "Wall time: 6.44 µs\n",
      "Optimizer: Optimization complete!\n",
      "CPU times: user 5 µs, sys: 0 ns, total: 5 µs\n",
      "Wall time: 9.3 µs\n",
      "Optimizer: Optimization complete!\n",
      "CPU times: user 5 µs, sys: 1 µs, total: 6 µs\n",
      "Wall time: 10.3 µs\n",
      "Optimizer: Optimization complete!\n",
      "CPU times: user 4 µs, sys: 0 ns, total: 4 µs\n",
      "Wall time: 10 µs\n",
      "Optimizer: Optimization complete!\n",
      "CPU times: user 4 µs, sys: 0 ns, total: 4 µs\n",
      "Wall time: 9.54 µs\n",
      "Optimizer: Optimization complete!\n",
      "CPU times: user 3 µs, sys: 1 µs, total: 4 µs\n",
      "Wall time: 6.2 µs\n",
      "Optimizer: Optimization complete!\n",
      "CPU times: user 5 µs, sys: 0 ns, total: 5 µs\n",
      "Wall time: 10.5 µs\n",
      "Optimizer: Optimization complete!\n"
     ]
    }
   ],
   "source": [
    "for smiles in smiles_df[\"smiles\"]:\n",
    "    pk.read_from_smiles(smiles)\n",
    "    %time\n",
    "    pk.optimize()"
   ]
  },
  {
   "cell_type": "code",
   "execution_count": 5,
   "id": "39186d8d-0d93-430b-a405-1d8dc3f894db",
   "metadata": {},
   "outputs": [
    {
     "name": "stdout",
     "output_type": "stream",
     "text": [
      "Optimizer: Optimization complete!\n",
      "CPU times: user 1.58 s, sys: 98.7 ms, total: 1.68 s\n",
      "Wall time: 2.69 s\n",
      "Optimizer: Optimization complete!\n",
      "CPU times: user 1.2 s, sys: 34.6 ms, total: 1.24 s\n",
      "Wall time: 1.26 s\n",
      "Optimizer: Optimization complete!\n",
      "CPU times: user 1.06 s, sys: 47.6 ms, total: 1.1 s\n",
      "Wall time: 1.12 s\n",
      "Optimizer: Optimization complete!\n",
      "CPU times: user 4.36 s, sys: 148 ms, total: 4.51 s\n",
      "Wall time: 4.55 s\n",
      "Optimizer: Optimization complete!\n",
      "CPU times: user 18.6 s, sys: 1.18 s, total: 19.7 s\n",
      "Wall time: 19.9 s\n",
      "Optimizer: Optimization complete!\n",
      "CPU times: user 6.56 s, sys: 164 ms, total: 6.72 s\n",
      "Wall time: 6.79 s\n",
      "Optimizer: Optimization complete!\n",
      "CPU times: user 17.5 s, sys: 1.17 s, total: 18.7 s\n",
      "Wall time: 18.9 s\n",
      "Optimizer: Optimization complete!\n",
      "CPU times: user 6.02 s, sys: 413 ms, total: 6.44 s\n",
      "Wall time: 6.49 s\n",
      "Optimizer: Optimization complete!\n",
      "CPU times: user 14 s, sys: 948 ms, total: 14.9 s\n",
      "Wall time: 15.1 s\n",
      "Optimizer: Optimization complete!\n",
      "CPU times: user 56.3 s, sys: 5.5 s, total: 1min 1s\n",
      "Wall time: 1min 2s\n"
     ]
    }
   ],
   "source": [
    "energies = []\n",
    "\n",
    "for smiles in smiles_df[\"smiles\"]:\n",
    "    pk.read_from_smiles(smiles)\n",
    "    \n",
    "    # Time the optimization and store the result\n",
    "    %time energy = pk.optimize()\n",
    "    \n",
    "    # Append the energy result to the energies list\n",
    "    energies.append(energy)\n",
    "\n",
    "# Add the energies to the DataFrame\n",
    "smiles_df[\"energy\"] = energies\n"
   ]
  },
  {
   "cell_type": "code",
   "execution_count": 6,
   "id": "a82105ed-8714-4ea3-8517-b6009f54e77e",
   "metadata": {},
   "outputs": [
    {
     "data": {
      "text/html": [
       "<div>\n",
       "<style scoped>\n",
       "    .dataframe tbody tr th:only-of-type {\n",
       "        vertical-align: middle;\n",
       "    }\n",
       "\n",
       "    .dataframe tbody tr th {\n",
       "        vertical-align: top;\n",
       "    }\n",
       "\n",
       "    .dataframe thead th {\n",
       "        text-align: right;\n",
       "    }\n",
       "</style>\n",
       "<table border=\"1\" class=\"dataframe\">\n",
       "  <thead>\n",
       "    <tr style=\"text-align: right;\">\n",
       "      <th></th>\n",
       "      <th>smiles</th>\n",
       "      <th>energy</th>\n",
       "    </tr>\n",
       "  </thead>\n",
       "  <tbody>\n",
       "    <tr>\n",
       "      <th>0</th>\n",
       "      <td>C=C</td>\n",
       "      <td>-78.038769</td>\n",
       "    </tr>\n",
       "    <tr>\n",
       "      <th>1</th>\n",
       "      <td>C=O</td>\n",
       "      <td>-113.869536</td>\n",
       "    </tr>\n",
       "    <tr>\n",
       "      <th>2</th>\n",
       "      <td>C#N</td>\n",
       "      <td>-92.876942</td>\n",
       "    </tr>\n",
       "    <tr>\n",
       "      <th>3</th>\n",
       "      <td>CCO</td>\n",
       "      <td>-154.089919</td>\n",
       "    </tr>\n",
       "    <tr>\n",
       "      <th>4</th>\n",
       "      <td>CCC(=O)O</td>\n",
       "      <td>-266.858985</td>\n",
       "    </tr>\n",
       "    <tr>\n",
       "      <th>5</th>\n",
       "      <td>CN=C=O</td>\n",
       "      <td>-206.795593</td>\n",
       "    </tr>\n",
       "    <tr>\n",
       "      <th>6</th>\n",
       "      <td>C1=CCC=CC1</td>\n",
       "      <td>-231.846762</td>\n",
       "    </tr>\n",
       "    <tr>\n",
       "      <th>7</th>\n",
       "      <td>C1=CC=CC=C1</td>\n",
       "      <td>-230.713524</td>\n",
       "    </tr>\n",
       "    <tr>\n",
       "      <th>8</th>\n",
       "      <td>C1=C(C)C=CC=C1</td>\n",
       "      <td>-269.753552</td>\n",
       "    </tr>\n",
       "    <tr>\n",
       "      <th>9</th>\n",
       "      <td>C1CCC2CCCCC2C1</td>\n",
       "      <td>-389.204842</td>\n",
       "    </tr>\n",
       "  </tbody>\n",
       "</table>\n",
       "</div>"
      ],
      "text/plain": [
       "           smiles      energy\n",
       "0             C=C  -78.038769\n",
       "1             C=O -113.869536\n",
       "2             C#N  -92.876942\n",
       "3             CCO -154.089919\n",
       "4        CCC(=O)O -266.858985\n",
       "5          CN=C=O -206.795593\n",
       "6      C1=CCC=CC1 -231.846762\n",
       "7     C1=CC=CC=C1 -230.713524\n",
       "8  C1=C(C)C=CC=C1 -269.753552\n",
       "9  C1CCC2CCCCC2C1 -389.204842"
      ]
     },
     "execution_count": 6,
     "metadata": {},
     "output_type": "execute_result"
    }
   ],
   "source": [
    "smiles_df\n"
   ]
  },
  {
   "cell_type": "code",
   "execution_count": null,
   "id": "6aeab651-dbe4-4a9c-aea1-2533fb1409f8",
   "metadata": {},
   "outputs": [],
   "source": []
  }
 ],
 "metadata": {
  "kernelspec": {
   "display_name": "lab_env_2024",
   "language": "python",
   "name": "lab_env_2024"
  },
  "language_info": {
   "codemirror_mode": {
    "name": "ipython",
    "version": 3
   },
   "file_extension": ".py",
   "mimetype": "text/x-python",
   "name": "python",
   "nbconvert_exporter": "python",
   "pygments_lexer": "ipython3",
   "version": "3.9.12"
  }
 },
 "nbformat": 4,
 "nbformat_minor": 5
}
