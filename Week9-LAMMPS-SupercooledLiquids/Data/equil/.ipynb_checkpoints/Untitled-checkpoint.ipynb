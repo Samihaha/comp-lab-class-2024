{
 "cells": [
  {
   "cell_type": "code",
   "execution_count": 2,
   "id": "54294a72-0db8-4c7e-8f5f-78c1f20c1a6b",
   "metadata": {},
   "outputs": [],
   "source": [
    "import MDAnalysis as mda\n",
    "import numpy as np\n",
    "import matplotlib.pyplot as plt"
   ]
  },
  {
   "cell_type": "code",
   "execution_count": 3,
   "id": "3460e0ef-3ae6-4a42-ae50-ceda956a53fe",
   "metadata": {},
   "outputs": [
    {
     "ename": "NameError",
     "evalue": "name 'traj_file' is not defined",
     "output_type": "error",
     "traceback": [
      "\u001b[0;31m---------------------------------------------------------------------------\u001b[0m",
      "\u001b[0;31mNameError\u001b[0m                                 Traceback (most recent call last)",
      "Cell \u001b[0;32mIn [3], line 1\u001b[0m\n\u001b[0;32m----> 1\u001b[0m u \u001b[38;5;241m=\u001b[39m mda\u001b[38;5;241m.\u001b[39mUniverse(\u001b[38;5;124m'\u001b[39m\u001b[38;5;124mkalj_particles.lmp\u001b[39m\u001b[38;5;124m'\u001b[39m, \u001b[43mtraj_file\u001b[49m, topology_format\u001b[38;5;241m=\u001b[39m\u001b[38;5;124m'\u001b[39m\u001b[38;5;124mLAMMPS\u001b[39m\u001b[38;5;124m'\u001b[39m)\n",
      "\u001b[0;31mNameError\u001b[0m: name 'traj_file' is not defined"
     ]
    }
   ],
   "source": [
    "u = mda.Universe('kalj_particles.lmp', traj_file, topology_format='LAMMPS')\n"
   ]
  },
  {
   "cell_type": "code",
   "execution_count": 5,
   "id": "cd13ae40-1722-4855-a908-1c0c97ed13de",
   "metadata": {},
   "outputs": [
    {
     "name": "stdout",
     "output_type": "stream",
     "text": [
      "total 20737\n",
      "-rw-rw-r--+ 1 sa8200 sa8200     648 Nov  7 17:25 kalj_T0.475_n360_v300_prod_30000000_1.log\n",
      "-rw-rw-r--+ 1 sa8200 sa8200    6328 Nov  7 17:22 kalj_T0.55_n360_v300_prod_3000000_1.log\n",
      "-rw-rw-r--+ 1 sa8200 sa8200 2204676 Nov  7 17:22 kalj_T0.55_n360_v300_prod_3000000_1.unwrap.dcd\n",
      "-rw-rw-r--+ 1 sa8200 sa8200    6330 Nov  7 17:25 kalj_T0.5_n360_v300_prod_10000000_1.log\n",
      "-rw-rw-r--+ 1 sa8200 sa8200 2204676 Nov  7 17:25 kalj_T0.5_n360_v300_prod_10000000_1.unwrap.dcd\n",
      "-rw-rw-r--+ 1 sa8200 sa8200    4310 Nov  7 17:20 kalj_T0.65_n360_v300_prod_350000_1.log\n",
      "-rw-rw-r--+ 1 sa8200 sa8200 2204676 Nov  7 17:20 kalj_T0.65_n360_v300_prod_350000_1.unwrap.dcd\n",
      "-rw-rw-r--+ 1 sa8200 sa8200    4572 Nov  7 17:20 kalj_T0.6_n360_v300_prod_1000000_1.log\n",
      "-rw-rw-r--+ 1 sa8200 sa8200 2204676 Nov  7 17:20 kalj_T0.6_n360_v300_prod_1000000_1.unwrap.dcd\n",
      "-rw-rw-r--+ 1 sa8200 sa8200    4819 Nov  7 17:20 kalj_T0.7_n360_v300_prod_180000_1.log\n",
      "-rw-rw-r--+ 1 sa8200 sa8200 2204676 Nov  7 17:20 kalj_T0.7_n360_v300_prod_180000_1.unwrap.dcd\n",
      "-rw-rw-r--+ 1 sa8200 sa8200    4816 Nov  7 17:20 kalj_T0.8_n360_v300_prod_150000_1.log\n",
      "-rw-rw-r--+ 1 sa8200 sa8200 2204676 Nov  7 17:20 kalj_T0.8_n360_v300_prod_150000_1.unwrap.dcd\n",
      "-rw-rw-r--+ 1 sa8200 sa8200    4816 Nov  7 17:20 kalj_T0.9_n360_v300_prod_150000_1.log\n",
      "-rw-rw-r--+ 1 sa8200 sa8200 2204676 Nov  7 17:20 kalj_T0.9_n360_v300_prod_150000_1.unwrap.dcd\n",
      "-rw-rw-r--+ 1 sa8200 sa8200    4361 Nov  7 17:20 kalj_T1.5_n360_v300_prod_10000_1.log\n",
      "-rw-rw-r--+ 1 sa8200 sa8200 2204676 Nov  7 17:20 kalj_T1.5_n360_v300_prod_10000_1.unwrap.dcd\n",
      "-rw-rw-r--+ 1 sa8200 sa8200    4697 Nov  7 17:20 kalj_T1_n360_v300_prod_50000_1.log\n",
      "-rw-rw-r--+ 1 sa8200 sa8200 2204676 Nov  7 17:20 kalj_T1_n360_v300_prod_50000_1.unwrap.dcd\n"
     ]
    }
   ],
   "source": [
    "ls -l /home/sa8200/comp-lab-class/comp-lab-class-2024/Week9-LAMMPS-SupercooledLiquids/Data/prod\n"
   ]
  },
  {
   "cell_type": "code",
   "execution_count": 1,
   "id": "6b7a0acd-ae40-4510-85e7-231fc6f3dad2",
   "metadata": {},
   "outputs": [
    {
     "name": "stdout",
     "output_type": "stream",
     "text": [
      "total 4480\n",
      "-rw-rw-r--+ 1 sa8200 sa8200 108158 Nov  7 16:25 kalj_T0.475_n360_v300_30000000_1.lammpstrj\n",
      "-rw-rw-r--+ 1 sa8200 sa8200   8192 Nov  7 16:16 kalj_T0.475_n360_v300_30000000_1.log\n",
      "-rw-rw-r--+ 1 sa8200 sa8200  32825 Nov  7 15:35 kalj_T0.55_n360_v300_3000000_1.final.lmprestart.3000000\n",
      "-rw-rw-r--+ 1 sa8200 sa8200 132160 Nov  7 15:35 kalj_T0.55_n360_v300_3000000_1.lammpstrj\n",
      "-rw-rw-r--+ 1 sa8200 sa8200  12722 Nov  7 15:35 kalj_T0.55_n360_v300_3000000_1.log\n",
      "-rw-rw-r--+ 1 sa8200 sa8200  32825 Nov  7 15:49 kalj_T0.5_n360_v300_10000000_1.final.lmprestart.10000000\n",
      "-rw-rw-r--+ 1 sa8200 sa8200 132085 Nov  7 15:49 kalj_T0.5_n360_v300_10000000_1.lammpstrj\n",
      "-rw-rw-r--+ 1 sa8200 sa8200  12726 Nov  7 15:49 kalj_T0.5_n360_v300_10000000_1.log\n",
      "-rw-rw-r--+ 1 sa8200 sa8200  32825 Nov  7 15:29 kalj_T0.65_n360_v300_350000_1.final.lmprestart.350000\n",
      "-rw-rw-r--+ 1 sa8200 sa8200  72066 Nov  7 15:29 kalj_T0.65_n360_v300_350000_1.lammpstrj\n",
      "-rw-rw-r--+ 1 sa8200 sa8200   4443 Nov  7 15:29 kalj_T0.65_n360_v300_350000_1.log\n",
      "-rw-rw-r--+ 1 sa8200 sa8200  32825 Nov  7 15:31 kalj_T0.6_n360_v300_1000000_1.final.lmprestart.1000000\n",
      "-rw-rw-r--+ 1 sa8200 sa8200 132137 Nov  7 15:31 kalj_T0.6_n360_v300_1000000_1.lammpstrj\n",
      "-rw-rw-r--+ 1 sa8200 sa8200   5751 Nov  7 15:31 kalj_T0.6_n360_v300_1000000_1.log\n",
      "-rw-rw-r--+ 1 sa8200 sa8200  32825 Nov  7 15:29 kalj_T0.7_n360_v300_180000_1.final.lmprestart.180000\n",
      "-rw-rw-r--+ 1 sa8200 sa8200  48059 Nov  7 15:29 kalj_T0.7_n360_v300_180000_1.lammpstrj\n",
      "-rw-rw-r--+ 1 sa8200 sa8200   6606 Nov  7 15:29 kalj_T0.7_n360_v300_180000_1.log\n",
      "-rw-rw-r--+ 1 sa8200 sa8200  32825 Nov  7 15:29 kalj_T0.8_n360_v300_150000_1.final.lmprestart.150000\n",
      "-rw-rw-r--+ 1 sa8200 sa8200  48043 Nov  7 15:29 kalj_T0.8_n360_v300_150000_1.lammpstrj\n",
      "-rw-rw-r--+ 1 sa8200 sa8200   6604 Nov  7 15:29 kalj_T0.8_n360_v300_150000_1.log\n",
      "-rw-rw-r--+ 1 sa8200 sa8200  32825 Nov  7 15:28 kalj_T0.9_n360_v300_150000_1.final.lmprestart.150000\n",
      "-rw-rw-r--+ 1 sa8200 sa8200  48004 Nov  7 15:28 kalj_T0.9_n360_v300_150000_1.lammpstrj\n",
      "-rw-rw-r--+ 1 sa8200 sa8200   6597 Nov  7 15:28 kalj_T0.9_n360_v300_150000_1.log\n",
      "-rw-rw-r--+ 1 sa8200 sa8200  32825 Nov  7 15:28 kalj_T1.5_n360_v300_10000_1.final.lmprestart.10000\n",
      "-rw-rw-r--+ 1 sa8200 sa8200  24024 Nov  7 15:28 kalj_T1.5_n360_v300_10000_1.lammpstrj\n",
      "-rw-rw-r--+ 1 sa8200 sa8200   4726 Nov  7 15:28 kalj_T1.5_n360_v300_10000_1.log\n",
      "-rw-rw-r--+ 1 sa8200 sa8200  32825 Nov  7 15:28 kalj_T1_n360_v300_50000_1.final.lmprestart.50000\n",
      "-rw-rw-r--+ 1 sa8200 sa8200  72104 Nov  7 15:28 kalj_T1_n360_v300_50000_1.lammpstrj\n",
      "-rw-rw-r--+ 1 sa8200 sa8200   6137 Nov  7 15:28 kalj_T1_n360_v300_50000_1.log\n",
      "-rw-rw-r--+ 1 sa8200 sa8200  32735 Nov  7 15:28 kalj_T2_n360_v300_10000_1.final.lmprestart.10000\n",
      "-rw-rw-r--+ 1 sa8200 sa8200  23153 Nov  7 15:28 kalj_T2_n360_v300_10000_1.lammpstrj\n",
      "-rw-rw-r--+ 1 sa8200 sa8200   5216 Nov  7 15:28 kalj_T2_n360_v300_10000_1.log\n"
     ]
    }
   ],
   "source": [
    "ls -l /home/sa8200/comp-lab-class/comp-lab-class-2024/Week9-LAMMPS-SupercooledLiquids/Data/equil"
   ]
  },
  {
   "cell_type": "code",
   "execution_count": null,
   "id": "25e0e218-f2da-4c8b-9a8e-86c3781f092f",
   "metadata": {},
   "outputs": [],
   "source": []
  }
 ],
 "metadata": {
  "kernelspec": {
   "display_name": "lab_env_2024",
   "language": "python",
   "name": "lab_env_2024"
  },
  "language_info": {
   "codemirror_mode": {
    "name": "ipython",
    "version": 3
   },
   "file_extension": ".py",
   "mimetype": "text/x-python",
   "name": "python",
   "nbconvert_exporter": "python",
   "pygments_lexer": "ipython3",
   "version": "3.9.12"
  }
 },
 "nbformat": 4,
 "nbformat_minor": 5
}
