{
 "cells": [
  {
   "cell_type": "code",
   "execution_count": 1,
   "id": "3d6ef056-c3e3-4042-acc6-2aae34d604f3",
   "metadata": {},
   "outputs": [
    {
     "ename": "SyntaxError",
     "evalue": "invalid decimal literal (2785293397.py, line 1)",
     "output_type": "error",
     "traceback": [
      "\u001b[0;36m  Cell \u001b[0;32mIn[1], line 1\u001b[0;36m\u001b[0m\n\u001b[0;31m    gmx_mpi energy -f 1hz3_T310.run.25000000.edr\u001b[0m\n\u001b[0m                      ^\u001b[0m\n\u001b[0;31mSyntaxError\u001b[0m\u001b[0;31m:\u001b[0m invalid decimal literal\n"
     ]
    }
   ],
   "source": [
    "gmx_mpi energy -f 1hz3_T310.run.25000000.edr"
   ]
  },
  {
   "cell_type": "code",
   "execution_count": 2,
   "id": "50f64a4c-6616-491e-9e7f-bc47c875bf68",
   "metadata": {},
   "outputs": [
    {
     "data": {
      "text/plain": [
       "'/scratch/work/courses/CHEM-GA-2671-2024fa/students/sa8200/comp-lab-class-2024/Week2-DataAnalysis/Data'"
      ]
     },
     "execution_count": 2,
     "metadata": {},
     "output_type": "execute_result"
    }
   ],
   "source": [
    "pwd"
   ]
  },
  {
   "cell_type": "code",
   "execution_count": 3,
   "id": "075f27a2-4a43-45c7-9225-e61ff47c4053",
   "metadata": {},
   "outputs": [
    {
     "ename": "SyntaxError",
     "evalue": "invalid decimal literal (1195948513.py, line 1)",
     "output_type": "error",
     "traceback": [
      "\u001b[0;36m  Cell \u001b[0;32mIn[3], line 1\u001b[0;36m\u001b[0m\n\u001b[0;31m    import 1hz3_T310.run.25000000.energy.xvg\u001b[0m\n\u001b[0m           ^\u001b[0m\n\u001b[0;31mSyntaxError\u001b[0m\u001b[0;31m:\u001b[0m invalid decimal literal\n"
     ]
    }
   ],
   "source": [
    "import 1hz3_T310.run.25000000.energy.xvg"
   ]
  },
  {
   "cell_type": "code",
   "execution_count": 4,
   "id": "1c795820-c54f-4194-9f28-13b2df362b54",
   "metadata": {},
   "outputs": [
    {
     "ename": "SyntaxError",
     "evalue": "invalid decimal literal (973254632.py, line 1)",
     "output_type": "error",
     "traceback": [
      "\u001b[0;36m  Cell \u001b[0;32mIn[4], line 1\u001b[0;36m\u001b[0m\n\u001b[0;31m    import data/1hz3_T310.run.25000000.energy.xvg\u001b[0m\n\u001b[0m                ^\u001b[0m\n\u001b[0;31mSyntaxError\u001b[0m\u001b[0;31m:\u001b[0m invalid decimal literal\n"
     ]
    }
   ],
   "source": [
    "import data/1hz3_T310.run.25000000.energy.xvg"
   ]
  },
  {
   "cell_type": "code",
   "execution_count": 5,
   "id": "1b0e1415-5c0a-4c28-a6af-b288b694e010",
   "metadata": {},
   "outputs": [],
   "source": [
    "import numpy"
   ]
  },
  {
   "cell_type": "code",
   "execution_count": 6,
   "id": "8f387304-92dc-4fd3-adb5-2215fad92de6",
   "metadata": {},
   "outputs": [
    {
     "ename": "ModuleNotFoundError",
     "evalue": "No module named 'data'",
     "output_type": "error",
     "traceback": [
      "\u001b[0;31m---------------------------------------------------------------------------\u001b[0m",
      "\u001b[0;31mModuleNotFoundError\u001b[0m                       Traceback (most recent call last)",
      "Cell \u001b[0;32mIn[6], line 1\u001b[0m\n\u001b[0;32m----> 1\u001b[0m \u001b[38;5;28;01mimport\u001b[39;00m \u001b[38;5;21;01mdata\u001b[39;00m\n",
      "\u001b[0;31mModuleNotFoundError\u001b[0m: No module named 'data'"
     ]
    }
   ],
   "source": [
    "import data"
   ]
  },
  {
   "cell_type": "code",
   "execution_count": 7,
   "id": "022bb412-f123-4688-9e9e-bffb076eefe9",
   "metadata": {},
   "outputs": [
    {
     "name": "stdout",
     "output_type": "stream",
     "text": [
      "1UBQ.pdb\n",
      "1UBQ_processed.pdb\n",
      "1hz3_T310.run.25000000.edr\n",
      "1hz3_T310.run.25000000.energy.out\n",
      "1hz3_T310.run.25000000.energy.xvg\n",
      "1hz3_T310.start.nowater.gro\n",
      "1hz3_T310.stepid25000000.every100ps.nowater.xtc\n",
      "Untitled.ipynb\n",
      "Untitled1.ipynb\n",
      "Untitled2.ipynb\n",
      "get_energy.sh\n"
     ]
    }
   ],
   "source": [
    "ls"
   ]
  },
  {
   "cell_type": "code",
   "execution_count": 8,
   "id": "30a13345-24c6-4e2a-91a2-c72e4bac8530",
   "metadata": {},
   "outputs": [
    {
     "data": {
      "text/plain": [
       "'/scratch/work/courses/CHEM-GA-2671-2024fa/students/sa8200/comp-lab-class-2024/Week2-DataAnalysis/Data'"
      ]
     },
     "execution_count": 8,
     "metadata": {},
     "output_type": "execute_result"
    }
   ],
   "source": [
    "pwd"
   ]
  },
  {
   "cell_type": "code",
   "execution_count": 9,
   "id": "9bc2567f-aab2-48e6-8a31-672d58f66272",
   "metadata": {},
   "outputs": [
    {
     "ename": "SyntaxError",
     "evalue": "Missing parentheses in call to 'print'. Did you mean print(...)? (1866876037.py, line 3)",
     "output_type": "error",
     "traceback": [
      "\u001b[0;36m  Cell \u001b[0;32mIn[9], line 3\u001b[0;36m\u001b[0m\n\u001b[0;31m    print energy_file\u001b[0m\n\u001b[0m    ^\u001b[0m\n\u001b[0;31mSyntaxError\u001b[0m\u001b[0;31m:\u001b[0m Missing parentheses in call to 'print'. Did you mean print(...)?\n"
     ]
    }
   ],
   "source": [
    "import os \n",
    "energy_file = os.path.join(\"data\" \"1hz3_T310.run.25000000.energy.xvg\" \"energy\")\n",
    "print energy_file"
   ]
  },
  {
   "cell_type": "code",
   "execution_count": 10,
   "id": "58f728a1-edae-4d96-be00-592866932c26",
   "metadata": {},
   "outputs": [
    {
     "ename": "NameError",
     "evalue": "name 'energy_file' is not defined",
     "output_type": "error",
     "traceback": [
      "\u001b[0;31m---------------------------------------------------------------------------\u001b[0m",
      "\u001b[0;31mNameError\u001b[0m                                 Traceback (most recent call last)",
      "Cell \u001b[0;32mIn[10], line 1\u001b[0m\n\u001b[0;32m----> 1\u001b[0m \u001b[38;5;28mprint\u001b[39m(energy_file)\n",
      "\u001b[0;31mNameError\u001b[0m: name 'energy_file' is not defined"
     ]
    }
   ],
   "source": [
    "print(energy_file)"
   ]
  },
  {
   "cell_type": "code",
   "execution_count": null,
   "id": "1c2427bc-3345-4f95-954f-c630c6800759",
   "metadata": {},
   "outputs": [],
   "source": [
    "import os \n",
    "energy_file = os.path.join(\"data\" \"1hz3_T310.run.25000000.energy.xvg\" \"energy\")"
   ]
  }
 ],
 "metadata": {
  "kernelspec": {
   "display_name": "Python 3 (ipykernel)",
   "language": "python",
   "name": "python3"
  },
  "language_info": {
   "codemirror_mode": {
    "name": "ipython",
    "version": 3
   },
   "file_extension": ".py",
   "mimetype": "text/x-python",
   "name": "python",
   "nbconvert_exporter": "python",
   "pygments_lexer": "ipython3",
   "version": "3.11.7"
  }
 },
 "nbformat": 4,
 "nbformat_minor": 5
}
