{
 "cells": [
  {
   "cell_type": "code",
   "execution_count": 1,
   "id": "4f0e7ad2-86e4-4b8c-9686-873ac74a3299",
   "metadata": {},
   "outputs": [
    {
     "name": "stdout",
     "output_type": "stream",
     "text": [
      "Defaulting to user installation because normal site-packages is not writeable\n",
      "Requirement already satisfied: mdtraj in /ext3/miniconda3/lib/python3.9/site-packages (1.9.7)\n",
      "Requirement already satisfied: astunparse in /ext3/miniconda3/lib/python3.9/site-packages (from mdtraj) (1.6.3)\n",
      "Requirement already satisfied: numpy>=1.6 in /ext3/miniconda3/lib/python3.9/site-packages (from mdtraj) (1.21.5)\n",
      "Requirement already satisfied: scipy in /ext3/miniconda3/lib/python3.9/site-packages (from mdtraj) (1.9.3)\n",
      "Requirement already satisfied: pyparsing in /ext3/miniconda3/lib/python3.9/site-packages (from mdtraj) (3.0.9)\n",
      "Requirement already satisfied: six<2.0,>=1.6.1 in /ext3/miniconda3/lib/python3.9/site-packages (from astunparse->mdtraj) (1.16.0)\n",
      "Requirement already satisfied: wheel<1.0,>=0.23.0 in /ext3/miniconda3/lib/python3.9/site-packages (from astunparse->mdtraj) (0.38.4)\n",
      "Note: you may need to restart the kernel to use updated packages.\n"
     ]
    }
   ],
   "source": [
    "pip install mdtraj\n"
   ]
  },
  {
   "cell_type": "code",
   "execution_count": 3,
   "id": "292138f6-b80e-46cd-aea5-4418dc652b99",
   "metadata": {},
   "outputs": [],
   "source": [
    "import mdtraj as md\n",
    "\n",
    "# Load the aligned AlphaFold model with RNA and ATP\n",
    "traj = md.load('/home/sa8200/comp-lab-class/comp-lab-class-2024/Week7-Alphafold/Inputs/NSP13_AF_vs_PDB/6zsl.pdb')\n"
   ]
  },
  {
   "cell_type": "code",
   "execution_count": 5,
   "id": "c2250ef6-de21-45c1-8077-577031b0821e",
   "metadata": {},
   "outputs": [
    {
     "name": "stdout",
     "output_type": "stream",
     "text": [
      "Amino acids within 0.5 nm of RNA phosphate atoms:\n",
      "Amino acids within 0.5 nm of uracil oxygen atoms:\n",
      "PRO284\n",
      "PRO284\n",
      "PRO284\n",
      "PRO284\n",
      "GLY285\n",
      "GLY285\n",
      "THR286\n",
      "GLY287\n",
      "LYS288\n",
      "LYS288\n",
      "LYS288\n",
      "LYS288\n",
      "GLN404\n",
      "GLN404\n",
      "GLN404\n",
      "GLN404\n",
      "ARG443\n",
      "ARG443\n",
      "ARG443\n",
      "GLN537\n",
      "GLN537\n",
      "GLN537\n",
      "GLN537\n",
      "GLN537\n",
      "GLY538\n",
      "GLY538\n",
      "GLY538\n",
      "ARG567\n",
      "ARG567\n",
      "ARG567\n",
      "GLY282\n",
      "PRO283\n",
      "PRO283\n",
      "PRO284\n",
      "PRO284\n",
      "PRO284\n",
      "PRO284\n",
      "PRO284\n",
      "PRO284\n",
      "GLY285\n",
      "GLY285\n",
      "GLY285\n",
      "THR286\n",
      "GLY287\n",
      "LYS288\n",
      "LYS288\n",
      "LYS288\n",
      "LYS288\n",
      "GLN404\n",
      "GLN404\n",
      "GLN404\n",
      "ARG443\n",
      "ARG443\n",
      "ARG567\n",
      "ARG567\n"
     ]
    }
   ],
   "source": [
    "import mdtraj as md\n",
    "\n",
    "traj = md.load('/home/sa8200/comp-lab-class/comp-lab-class-2024/Week7-Alphafold/Inputs/NSP13_AF_vs_PDB/6zsl.pdb')\n",
    "\n",
    "# Select phosphate atoms (P) in RNA and oxygen atoms (O2, O4) in uracil\n",
    "phosphate_atoms = traj.topology.select(\"element P and resname RNA\")\n",
    "uracil_oxygen_atoms = traj.topology.select(\"name O2 or name O4 and resname U\")\n",
    "\n",
    "# Select all protein atoms\n",
    "protein_atoms = traj.topology.select(\"protein\")\n",
    "\n",
    "# Find all atoms within 0.5 nm of RNA phosphate atoms\n",
    "close_phosphate_neighbors = md.compute_neighbors(traj, 0.5, phosphate_atoms)\n",
    "# Filter for protein residues only\n",
    "close_residues_phosphate = [protein_atoms[idx] for frame in close_phosphate_neighbors for idx in frame if idx in protein_atoms]\n",
    "\n",
    "# Find all atoms within 0.5 nm of uracil oxygen atoms\n",
    "close_uracil_neighbors = md.compute_neighbors(traj, 0.5, uracil_oxygen_atoms)\n",
    "# Filter for protein residues only\n",
    "close_residues_uracil = [protein_atoms[idx] for frame in close_uracil_neighbors for idx in frame if idx in protein_atoms]\n",
    "\n",
    "# Print amino acids close to RNA phosphate atoms\n",
    "print(\"Amino acids within 0.5 nm of RNA phosphate atoms:\")\n",
    "for idx in close_residues_phosphate:\n",
    "    print(traj.topology.atom(idx).residue)\n",
    "\n",
    "# Print amino acids close to uracil oxygen atoms\n",
    "print(\"Amino acids within 0.5 nm of uracil oxygen atoms:\")\n",
    "for idx in close_residues_uracil:\n",
    "    print(traj.topology.atom(idx).residue)"
   ]
  },
  {
   "cell_type": "code",
   "execution_count": null,
   "id": "ec747f7c-aab4-480c-9089-56086430c52e",
   "metadata": {},
   "outputs": [],
   "source": []
  }
 ],
 "metadata": {
  "kernelspec": {
   "display_name": "lab_env_2024",
   "language": "python",
   "name": "lab_env_2024"
  },
  "language_info": {
   "codemirror_mode": {
    "name": "ipython",
    "version": 3
   },
   "file_extension": ".py",
   "mimetype": "text/x-python",
   "name": "python",
   "nbconvert_exporter": "python",
   "pygments_lexer": "ipython3",
   "version": "3.9.12"
  }
 },
 "nbformat": 4,
 "nbformat_minor": 5
}
